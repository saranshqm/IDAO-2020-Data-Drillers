{
  "nbformat": 4,
  "nbformat_minor": 0,
  "metadata": {
    "colab": {
      "name": "IDAO.ipynb",
      "provenance": []
    },
    "kernelspec": {
      "name": "python3",
      "display_name": "Python 3"
    }
  },
  "cells": [
    {
      "cell_type": "code",
      "metadata": {
        "id": "gcC1qE2YJjOM",
        "colab_type": "code",
        "colab": {}
      },
      "source": [
        "# This Python 3 environment comes with many helpful analytics libraries installed\n",
        "# It is defined by the kaggle/python docker image: https://github.com/kaggle/docker-python\n",
        "# For example, here's several helpful packages to load in \n",
        "\n",
        "import numpy as np # linear algebra\n",
        "import pandas as pd # data processing, CSV file I/O (e.g. pd.read_csv)\n",
        "from sklearn.model_selection import train_test_split\n",
        "from sklearn.metrics import mean_squared_error\n",
        "from sklearn.metrics import mean_absolute_error\n",
        "\n",
        "import seaborn as sns\n",
        "import matplotlib.pyplot as plt\n",
        "from pandas import read_csv\n",
        "from pandas import datetime\n",
        "from matplotlib import pyplot\n",
        "# load dataset\n",
        "import matplotlib.pyplot as plt\n",
        "import numpy as np # linear algebra\n",
        "import pandas as pd # data processing, CSV file I/O (e.g. pd.read_csv)\n",
        "import xgboost\n",
        "import csv as csv\n",
        "from xgboost import plot_importance\n",
        "from matplotlib import pyplot\n",
        "from sklearn.model_selection import cross_val_score,KFold\n",
        "#from sklearn.cross_validation import  train_test_split\n",
        "from sklearn.metrics import mean_absolute_error\n",
        "import matplotlib.pyplot as plt\n",
        "#from sklearn.grid_search import GridSearchCV2 #Perforing grid search\n",
        "from scipy.stats import skew\n",
        "from collections import OrderedDict\n",
        "# Input data files are available in the \"../input/\" directory.\n",
        "# For example, running this (by clicking run or pressing Shift+Enter) will list the files in the input directory\n",
        "\n",
        "# Any results you write to the current directory are saved as output."
      ],
      "execution_count": 0,
      "outputs": []
    },
    {
      "cell_type": "code",
      "metadata": {
        "id": "Zu0mJGvTTSCz",
        "colab_type": "code",
        "colab": {
          "base_uri": "https://localhost:8080/",
          "height": 34
        },
        "outputId": "74a32eb5-9d7f-429c-f602-5474e19776f8"
      },
      "source": [
        "train = pd.read_csv(\"/content/train.csv\",header=0)\n",
        "test = pd.read_csv(\"/content/test.csv\",header=0)\n",
        "print(train.shape,test.shape)"
      ],
      "execution_count": 2,
      "outputs": [
        {
          "output_type": "stream",
          "text": [
            "(649912, 15) (284071, 9)\n"
          ],
          "name": "stdout"
        }
      ]
    },
    {
      "cell_type": "code",
      "metadata": {
        "id": "w8ltp_gjmbSS",
        "colab_type": "code",
        "colab": {
          "base_uri": "https://localhost:8080/",
          "height": 915
        },
        "outputId": "680cd7b2-58b1-40b9-d94b-ff3bbe8955fa"
      },
      "source": [
        "\n",
        "corrmat = train.corr() \n",
        "  \n",
        "f, ax = plt.subplots(figsize =(9, 8)) \n",
        "sns.heatmap(corrmat, ax = ax, cmap =\"YlGnBu\", linewidths = 0.1) \n",
        "print(corrmat)"
      ],
      "execution_count": 25,
      "outputs": [
        {
          "output_type": "stream",
          "text": [
            "              id    sat_id         x  ...       a_x       a_y       a_z\n",
            "id      1.000000  0.999120  0.027327  ...  0.000011  0.000012 -0.000013\n",
            "sat_id  0.999120  1.000000  0.028011  ...  0.000010  0.000011 -0.000013\n",
            "x       0.027327  0.028011  1.000000  ... -0.430604 -0.003673  0.016059\n",
            "y      -0.001322 -0.000506  0.044200  ... -0.024702 -0.419122 -0.006636\n",
            "z       0.034819  0.035870 -0.040504  ... -0.007523 -0.025050 -0.414882\n",
            "Vx      0.000286  0.000302  0.001396  ... -0.095614 -0.061593  0.007316\n",
            "Vy     -0.000195 -0.000184 -0.036903  ...  0.012801 -0.089633 -0.094351\n",
            "Vz      0.000274  0.000287 -0.001782  ... -0.013186  0.110529 -0.164578\n",
            "x_sim   0.023244  0.023897  0.959740  ... -0.480241 -0.011063  0.005628\n",
            "y_sim  -0.002180 -0.001355  0.026356  ... -0.020951 -0.472396 -0.011712\n",
            "z_sim   0.032539  0.033541 -0.044701  ...  0.004545 -0.025193 -0.470398\n",
            "Vx_sim  0.000150  0.000160 -0.012890  ... -0.158954 -0.081507 -0.008630\n",
            "Vy_sim -0.000066 -0.000051 -0.032230  ...  0.071659 -0.159813 -0.087586\n",
            "Vz_sim  0.000163  0.000174  0.001988  ...  0.014039  0.069411 -0.159887\n",
            "hour    0.000280  0.000195  0.001996  ... -0.000840  0.001679  0.001961\n",
            "minute  0.000737  0.000661  0.000065  ...  0.000834  0.000604 -0.000754\n",
            "second  0.003698  0.003668 -0.000614  ... -0.000355 -0.000135  0.000369\n",
            "day     0.001774  0.000009  0.003631  ... -0.000337  0.000487 -0.000247\n",
            "a_x     0.000011  0.000010 -0.430604  ...  1.000000  0.032263 -0.016780\n",
            "a_y     0.000012  0.000011 -0.003673  ...  0.032263  1.000000  0.056885\n",
            "a_z    -0.000013 -0.000013  0.016059  ... -0.016780  0.056885  1.000000\n",
            "\n",
            "[21 rows x 21 columns]\n"
          ],
          "name": "stdout"
        },
        {
          "output_type": "display_data",
          "data": {
            "image/png": "[encoded data removed]",
            "text/plain": [
              "<Figure size 648x576 with 2 Axes>"
            ]
          },
          "metadata": {
            "tags": []
          }
        }
      ]
    },
    {
      "cell_type": "code",
      "metadata": {
        "id": "wyQ66WYIqr-9",
        "colab_type": "code",
        "colab": {}
      },
      "source": [
        ""
      ],
      "execution_count": 0,
      "outputs": []
    },
    {
      "cell_type": "code",
      "metadata": {
        "id": "ygVCL1DWTYBO",
        "colab_type": "code",
        "colab": {
          "base_uri": "https://localhost:8080/",
          "height": 84
        },
        "outputId": "8095917a-f444-4ef3-fe19-b3c09d467104"
      },
      "source": [
        "\n",
        "def date_time_extract(a,count):\n",
        "    if count == 0:\n",
        "        print('extracting date, time, hour......for train data')\n",
        "        train['hour'] = pd.DatetimeIndex(a).hour\n",
        "        train['minute'] = pd.DatetimeIndex(a).minute\n",
        "        train['second'] = pd.DatetimeIndex(a).second\n",
        "        train['day'] = pd.DatetimeIndex(a).day\n",
        "        print('extraction of date_time_hour done.........!!')\n",
        "    else:\n",
        "        print('extracting date, time, hour......for test data')\n",
        "        test['hour'] = pd.DatetimeIndex(a).hour\n",
        "        test['minute'] = pd.DatetimeIndex(a).minute\n",
        "        test['second'] = pd.DatetimeIndex(a).second\n",
        "        test['day'] = pd.DatetimeIndex(a).day\n",
        "        print('extraction of date_time_hour done.........!!')\n",
        "    \n",
        "    count+=1\n",
        "    \n",
        "    \n",
        "    \n",
        "\n",
        "date_time_extract(train['epoch'],0)\n",
        "date_time_extract(test['epoch'],1)"
      ],
      "execution_count": 3,
      "outputs": [
        {
          "output_type": "stream",
          "text": [
            "extracting date, time, hour......for train data\n",
            "extraction of date_time_hour done.........!!\n",
            "extracting date, time, hour......for test data\n",
            "extraction of date_time_hour done.........!!\n"
          ],
          "name": "stdout"
        }
      ]
    },
    {
      "cell_type": "code",
      "metadata": {
        "id": "C0q4OwGeThuB",
        "colab_type": "code",
        "colab": {}
      },
      "source": [
        "def get_acceleration(a,b,c,count):\n",
        "    a1 = []\n",
        "    a2 = []\n",
        "    a3 = []\n",
        "    \n",
        "    #a1.append(0)\n",
        "    #a2.append(0)\n",
        "    #a3.append(0)\n",
        "    \n",
        "    a1 = np.asarray(a)\n",
        "    a2 = np.asarray(b)\n",
        "    a3 = np.asarray(c)\n",
        "    \n",
        "    b1 = []\n",
        "    b2 = []\n",
        "    b3 = []\n",
        "    \n",
        "    if count == 0:\n",
        "    \n",
        "        for i in range(len(np.asarray(train['hour']))-1):\n",
        "            #print('extracting acceleration in 3-D....')\n",
        "            b1.append((a1[i+1]-a1[i]))\n",
        "            b2.append((a2[i+1]-a2[i]))\n",
        "            b3.append((a3[i+1]-a3[i]))\n",
        "        \n",
        "        b1.append(a[len(a)-1])\n",
        "        b2.append(b[len(a)-1])\n",
        "        b3.append(c[len(a)-1])\n",
        "    \n",
        "        print('extraction done!!')\n",
        "    \n",
        "        print('loading acceleration values in train...')\n",
        "        train['a_x'] = np.asarray(b1)\n",
        "        train['a_y'] = np.asarray(b2)\n",
        "        train['a_z'] = np.asarray(b3)\n",
        "        print('loaded acc values in train...')\n",
        "    \n",
        "    else:\n",
        "        \n",
        "        for i in range(len(np.asarray(test['hour']))-1):\n",
        "            #print('extracting acceleration in 3-D....')\n",
        "            b1.append((a1[i+1]-a1[i]))\n",
        "            b2.append((a2[i+1]-a2[i]))\n",
        "            b3.append((a3[i+1]-a3[i]))\n",
        "        \n",
        "        b1.append(a[len(a)-1])\n",
        "        b2.append(b[len(a)-1])\n",
        "        b3.append(c[len(a)-1])\n",
        "        \n",
        "        \n",
        "        \n",
        "        \n",
        "        print('loading acceleration values in test')\n",
        "        test['a_x'] = np.asarray(b1)\n",
        "        test['a_y'] = np.asarray(b2)\n",
        "        test['a_z'] = np.asarray(b3)\n",
        "        print('loaded acc values in test')\n",
        "    \n",
        "    \n",
        "        "
      ],
      "execution_count": 0,
      "outputs": []
    },
    {
      "cell_type": "code",
      "metadata": {
        "id": "01bMTJ02UTrH",
        "colab_type": "code",
        "colab": {
          "base_uri": "https://localhost:8080/",
          "height": 101
        },
        "outputId": "ac48083a-5fd5-43c2-e021-d62f4b103648"
      },
      "source": [
        "get_acceleration(train['Vx_sim'],train['Vy_sim'],train['Vz_sim'],0)\n",
        "get_acceleration(test['Vx_sim'],test['Vy_sim'],test['Vz_sim'],1)"
      ],
      "execution_count": 5,
      "outputs": [
        {
          "output_type": "stream",
          "text": [
            "extraction done!!\n",
            "loading acceleration values in train...\n",
            "loaded acc values in train...\n",
            "loading acceleration values in test\n",
            "loaded acc values in test\n"
          ],
          "name": "stdout"
        }
      ]
    },
    {
      "cell_type": "code",
      "metadata": {
        "id": "_XltQesLUij_",
        "colab_type": "code",
        "colab": {}
      },
      "source": [
        "def get_features(t,count):\n",
        "    if count == 0:\n",
        "        feature_df_train = train[['Vx_sim', 'Vy_sim', 'Vz_sim', 'x_sim', 'y_sim', 'z_sim','a_x','a_y','a_z']]\n",
        "        return feature_df_train\n",
        "    \n",
        "    else:\n",
        "        feature_df_test = test[['Vx_sim', 'Vy_sim', 'Vz_sim', 'x_sim', 'y_sim', 'z_sim','a_x','a_y','a_z']]\n",
        "        return feature_df_test\n",
        "    "
      ],
      "execution_count": 0,
      "outputs": []
    },
    {
      "cell_type": "code",
      "metadata": {
        "id": "IW-laAqMUlea",
        "colab_type": "code",
        "colab": {}
      },
      "source": [
        "x_train = get_features(train,0)\n",
        "x_train = np.asarray(x_train)\n",
        "x_test = get_features(test,1)\n",
        "x_test = np.asarray(x_test)"
      ],
      "execution_count": 0,
      "outputs": []
    },
    {
      "cell_type": "code",
      "metadata": {
        "id": "kWXG8RTMUo0r",
        "colab_type": "code",
        "colab": {}
      },
      "source": [
        "def get_target_variable(x):\n",
        "    return np.asarray(x)\n"
      ],
      "execution_count": 0,
      "outputs": []
    },
    {
      "cell_type": "code",
      "metadata": {
        "id": "APnnkulAUriX",
        "colab_type": "code",
        "colab": {}
      },
      "source": [
        "y_x = get_target_variable(train['x'])\n",
        "y_y = get_target_variable(train['y'])\n",
        "y_z = get_target_variable(train['z'])\n",
        "\n",
        "y_vx = get_target_variable(train['Vx'])\n",
        "y_vy = get_target_variable(train['Vy'])\n",
        "y_vz = get_target_variable(train['Vz'])"
      ],
      "execution_count": 0,
      "outputs": []
    },
    {
      "cell_type": "code",
      "metadata": {
        "id": "pON0wnVOUuCN",
        "colab_type": "code",
        "colab": {}
      },
      "source": [
        "x_train_split,x_val_split,y_train_x,y_val_x,y_train_y,y_val_y,y_train_z,y_val_z,y_train_vx, y_val_vx,y_train_vy,y_val_vy, y_train_vz,y_val_vz = train_test_split(x_train,y_x,y_y,y_z,y_vx,y_vy,y_vz,test_size = 0.3,random_state = 5)"
      ],
      "execution_count": 0,
      "outputs": []
    },
    {
      "cell_type": "code",
      "metadata": {
        "id": "-cYNhMmNUyUX",
        "colab_type": "code",
        "colab": {}
      },
      "source": [
        "##### defining the score\n",
        "\n",
        "def smape(satellite_predicted_values, satellite_true_values): \n",
        "    # the division, addition and subtraction are pointwise \n",
        "    beta = np.mean(np.abs((satellite_predicted_values - satellite_true_values) \n",
        "        / (np.abs(satellite_predicted_values) + np.abs(satellite_true_values))))\n",
        "    return 100*(1-beta)\n",
        "\n",
        "def Mean_abs_error(Y_true,Y_pred):\n",
        "    \n",
        "    return mean_absolute_error(Y_true,Y_pred)\n"
      ],
      "execution_count": 0,
      "outputs": []
    },
    {
      "cell_type": "code",
      "metadata": {
        "id": "QSLig4btU1zf",
        "colab_type": "code",
        "colab": {}
      },
      "source": [
        "\n",
        "# this is best till now\n",
        "#n_estimators = 3000\n",
        "\n",
        "def xgb_model_evaluation(x_train_split,x_val_split,y_train_x,y_val_x,x_test):\n",
        "    #n_Estimators = 10000\n",
        "    model = xgboost.XGBRegressor(colsample_bytree=0.4,\n",
        "                 gamma=0,                 \n",
        "                 learning_rate=0.1,\n",
        "                 max_depth=6,\n",
        "                 min_child_weight=1.5,\n",
        "                 n_estimators=3000,                                                                    \n",
        "                 reg_alpha=0.75,\n",
        "                 reg_lambda=0.45,\n",
        "                 subsample=0.6,\n",
        "                 seed=42)\n",
        "    #print('all parameters enabled--->')\n",
        "    print('train for y_train_x !!------>')\n",
        "    \n",
        "    model.fit(x_train_split,y_train_x)\n",
        "    \n",
        "    print('training for y_train_x completed-------->prediction started for y_val_x')\n",
        "    \n",
        "    a = model.predict(x_val_split)\n",
        "    \n",
        "    print('prediction for y_val_x completed------> evaluating result for validation data')\n",
        "    \n",
        "    print('the score for validation obtained is:',smape(a,y_val_x))\n",
        "    print('the Mean_abs_error VALIDATION for train is:', Mean_abs_error(a,y_val_x))\n",
        "    \n",
        "    \n",
        "    print('evaluating results for train---->')\n",
        "    a = model.predict(x_train_split)\n",
        "    print('the smape score for train obtained is:',smape(a,y_train_x))\n",
        "    print('the Mean_abs_error obtained for train is:', Mean_abs_error(a,y_train_x))\n",
        "    print('prediction of test has been started')\n",
        "    \n",
        "    a = np.asarray(model.predict(x_test))\n",
        "    print('test values predicted successfully------> Moving to the next step now')\n",
        "    return a,model\n",
        "    \n",
        "    \n",
        "    \n",
        "\n"
      ],
      "execution_count": 0,
      "outputs": []
    },
    {
      "cell_type": "code",
      "metadata": {
        "id": "xwfoAsVpdrNb",
        "colab_type": "code",
        "colab": {}
      },
      "source": [
        "import matplotlib.pyplot as plt \n",
        "import numpy as np \n",
        "from sklearn import datasets, linear_model, metrics \n",
        "import timeit\n",
        "\n",
        "\n",
        "\n",
        "#Your statements here\n",
        "\n",
        "\n",
        "  \n",
        "# load the boston dataset \n",
        "#boston = datasets.load_boston(return_X_y=False) \n",
        "  \n",
        "# defining feature matrix(X) and response vector(y) \n",
        "#X = boston.data \n",
        "#y = boston.target \n",
        "  \n",
        "# splitting X and y into training and testing sets \n",
        "#from sklearn.model_selection import train_test_split \n",
        "#X_train, X_test, y_train, y_test = train_test_split(X, y, test_size=0.4, \n",
        "#                                                    random_state=1) \n",
        "  \n",
        "# create linear regression object \n",
        "\n",
        "\n",
        "def lr_model_evaluation(x_train_split,x_val_split,y_train_x,y_val_x,x_test):\n",
        "    #n_Estimators = 10000\n",
        "    start = timeit.default_timer()\n",
        "    reg = linear_model.LinearRegression() \n",
        "    #print('all parameters enabled--->')\n",
        "    print('train for y_train_x !!------>')\n",
        "    \n",
        "    reg.fit(x_train_split,y_train_x)\n",
        "    \n",
        "    print('training for y_train_x completed-------->prediction started for y_val_x')\n",
        "    \n",
        "    a = reg.predict(x_val_split)\n",
        "    \n",
        "    print('prediction for y_val_x completed------> evaluating result for validation data')\n",
        "    \n",
        "    print('the score for validation obtained is:',smape(a,y_val_x))\n",
        "    print('the Mean_abs_error VALIDATION for train is:', Mean_abs_error(a,y_val_x))\n",
        "    \n",
        "    \n",
        "    print('evaluating results for train---->')\n",
        "    a = reg.predict(x_train_split)\n",
        "    print('the smape score for train obtained is:',smape(a,y_train_x))\n",
        "    print('the Mean_abs_error obtained for train is:', Mean_abs_error(a,y_train_x))\n",
        "    print('prediction of test has been started')\n",
        "    \n",
        "    a = np.asarray(reg.predict(x_test))\n",
        "    print('test values predicted successfully------> Moving to the next step now')\n",
        "    stop = timeit.default_timer()\n",
        "\n",
        "    print('Time: ', stop - start)\n",
        "    return a,reg\n"
      ],
      "execution_count": 0,
      "outputs": []
    },
    {
      "cell_type": "code",
      "metadata": {
        "id": "4AhFuCYRhY2O",
        "colab_type": "code",
        "colab": {
          "base_uri": "https://localhost:8080/",
          "height": 202
        },
        "outputId": "62815ab9-8953-4c94-d858-bf075715812c"
      },
      "source": [
        "# xgb model for y_train_x\n",
        "y_test_x, model_x = lr_model_evaluation(x_train_split,x_val_split,y_train_x,y_val_x,x_test)"
      ],
      "execution_count": 21,
      "outputs": [
        {
          "output_type": "stream",
          "text": [
            "train for y_train_x !!------>\n",
            "training for y_train_x completed-------->prediction started for y_val_x\n",
            "prediction for y_val_x completed------> evaluating result for validation data\n",
            "the score for validation obtained is: 79.31363154196056\n",
            "the Mean_abs_error VALIDATION for train is: 3501.824625840138\n",
            "evaluating results for train---->\n",
            "the smape score for train obtained is: 79.39485239487367\n",
            "the Mean_abs_error obtained for train is: 3477.626453076312\n",
            "prediction of test has been started\n",
            "test values predicted successfully------> Moving to the next step now\n",
            "Time:  0.1547235960006219\n"
          ],
          "name": "stdout"
        }
      ]
    },
    {
      "cell_type": "code",
      "metadata": {
        "id": "7VCJGJWChbpj",
        "colab_type": "code",
        "colab": {
          "base_uri": "https://localhost:8080/",
          "height": 185
        },
        "outputId": "a3eca810-9787-4000-8ade-754fb4a4df95"
      },
      "source": [
        "# xgb model for y_train_y\n",
        "y_test_y, model_y =lr_model_evaluation(x_train_split,x_val_split,y_train_y,y_val_y,x_test)"
      ],
      "execution_count": 17,
      "outputs": [
        {
          "output_type": "stream",
          "text": [
            "train for y_train_x !!------>\n",
            "training for y_train_x completed-------->prediction started for y_val_x\n",
            "prediction for y_val_x completed------> evaluating result for validation data\n",
            "the score for validation obtained is: 78.76379069358265\n",
            "the Mean_abs_error VALIDATION for train is: 3542.353357817838\n",
            "evaluating results for train---->\n",
            "the smape score for train obtained is: 78.78790397129873\n",
            "the Mean_abs_error obtained for train is: 3519.0328799073186\n",
            "prediction of test has been started\n",
            "test values predicted successfully------> Moving to the next step now\n"
          ],
          "name": "stdout"
        }
      ]
    },
    {
      "cell_type": "code",
      "metadata": {
        "id": "bZC10ksohw-r",
        "colab_type": "code",
        "colab": {
          "base_uri": "https://localhost:8080/",
          "height": 202
        },
        "outputId": "f50c3cd4-9517-4ce5-af2c-1c9f2bcafa14"
      },
      "source": [
        "# xgb model for y_train_x\n",
        "y_test_z, model_z = lr_model_evaluation(x_train_split,x_val_split,y_train_z,y_val_z,x_test)"
      ],
      "execution_count": 22,
      "outputs": [
        {
          "output_type": "stream",
          "text": [
            "train for y_train_x !!------>\n",
            "training for y_train_x completed-------->prediction started for y_val_x\n",
            "prediction for y_val_x completed------> evaluating result for validation data\n",
            "the score for validation obtained is: 75.92073043387117\n",
            "the Mean_abs_error VALIDATION for train is: 2719.14078773227\n",
            "evaluating results for train---->\n",
            "the smape score for train obtained is: 75.96060243633337\n",
            "the Mean_abs_error obtained for train is: 2698.76818932576\n",
            "prediction of test has been started\n",
            "test values predicted successfully------> Moving to the next step now\n",
            "Time:  0.1477196340001683\n"
          ],
          "name": "stdout"
        }
      ]
    },
    {
      "cell_type": "code",
      "metadata": {
        "id": "JcVu6GIZh3DI",
        "colab_type": "code",
        "colab": {
          "base_uri": "https://localhost:8080/",
          "height": 202
        },
        "outputId": "711ec38d-8a6e-437d-ddda-c6782f4842b3"
      },
      "source": [
        "# xgb model for y_train_vx\n",
        "y_test_vx, model_vx = lr_model_evaluation(x_train_split,x_val_split,y_train_vx,y_val_vx,x_test)"
      ],
      "execution_count": 23,
      "outputs": [
        {
          "output_type": "stream",
          "text": [
            "train for y_train_x !!------>\n",
            "training for y_train_x completed-------->prediction started for y_val_x\n",
            "prediction for y_val_x completed------> evaluating result for validation data\n",
            "the score for validation obtained is: 76.07332345661719\n",
            "the Mean_abs_error VALIDATION for train is: 0.7299479400930514\n",
            "evaluating results for train---->\n",
            "the smape score for train obtained is: 76.13461004768236\n",
            "the Mean_abs_error obtained for train is: 0.7282925573646793\n",
            "prediction of test has been started\n",
            "test values predicted successfully------> Moving to the next step now\n",
            "Time:  0.1446128289999251\n"
          ],
          "name": "stdout"
        }
      ]
    },
    {
      "cell_type": "code",
      "metadata": {
        "id": "_y2dQ1aMh7IZ",
        "colab_type": "code",
        "colab": {}
      },
      "source": [
        ""
      ],
      "execution_count": 0,
      "outputs": []
    }
  ]
}